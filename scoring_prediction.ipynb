{
 "cells": [
  {
   "cell_type": "code",
   "execution_count": 82,
   "metadata": {
    "collapsed": true,
    "pycharm": {
     "name": "#%%\n"
    }
   },
   "outputs": [],
   "source": [
    "import pandas as pd\n",
    "import numpy as np\n",
    "\n",
    "from sklearn.model_selection import train_test_split\n",
    "from sklearn.linear_model import LogisticRegression\n",
    "from sklearn.metrics import roc_auc_score\n",
    "\n",
    "import warnings\n",
    "warnings.filterwarnings(\"ignore\");"
   ]
  },
  {
   "cell_type": "code",
   "execution_count": 83,
   "outputs": [],
   "source": [
    "df = pd.read_csv('train.csv')"
   ],
   "metadata": {
    "collapsed": false,
    "pycharm": {
     "name": "#%%\n"
    }
   }
  },
  {
   "cell_type": "code",
   "execution_count": 84,
   "outputs": [
    {
     "data": {
      "text/plain": "       client_id   app_date education sex  age car car_type  decline_app_cnt  \\\n0          25905  01FEB2014       SCH   M   62   Y        Y                0   \n1          63161  12MAR2014       SCH   F   59   N        N                0   \n2          25887  01FEB2014       SCH   M   25   Y        N                2   \n3          16222  23JAN2014       SCH   F   53   N        N                0   \n4         101655  18APR2014       GRD   M   48   N        N                0   \n...          ...        ...       ...  ..  ...  ..      ...              ...   \n73794      54887  04MAR2014       GRD   F   45   N        N                0   \n73795      76821  24MAR2014       SCH   M   41   Y        Y                0   \n73796     103695  22APR2014       SCH   M   31   N        N                0   \n73797        861  04JAN2014       SCH   F   29   N        N                0   \n73798      15796  23JAN2014       GRD   M   34   N        N                0   \n\n       good_work  score_bki  bki_request_cnt  region_rating  home_address  \\\n0              0  -2.008753                1             50             1   \n1              0  -1.532276                3             50             2   \n2              0  -1.408142                1             80             1   \n3              0  -2.057471                2             50             2   \n4              1  -1.244723                1             60             2   \n...          ...        ...              ...            ...           ...   \n73794          0  -1.792064                3             50             1   \n73795          0  -2.058029                1             50             2   \n73796          0  -1.512635                4             80             2   \n73797          1  -1.479334                3             50             1   \n73798          0  -1.764711                2             50             2   \n\n       work_address  income  sna  first_time foreign_passport  default  \n0                 2   18000    4           1                N        0  \n1                 3   19000    4           1                N        0  \n2                 2   30000    1           4                Y        0  \n3                 3   10000    1           3                N        0  \n4                 3   30000    1           4                Y        0  \n...             ...     ...  ...         ...              ...      ...  \n73794             2   17000    4           4                N        0  \n73795             2   70000    1           4                N        0  \n73796             3   45000    2           2                N        0  \n73797             3   13000    2           3                N        1  \n73798             3   25000    1           3                N        0  \n\n[73799 rows x 19 columns]",
      "text/html": "<div>\n<style scoped>\n    .dataframe tbody tr th:only-of-type {\n        vertical-align: middle;\n    }\n\n    .dataframe tbody tr th {\n        vertical-align: top;\n    }\n\n    .dataframe thead th {\n        text-align: right;\n    }\n</style>\n<table border=\"1\" class=\"dataframe\">\n  <thead>\n    <tr style=\"text-align: right;\">\n      <th></th>\n      <th>client_id</th>\n      <th>app_date</th>\n      <th>education</th>\n      <th>sex</th>\n      <th>age</th>\n      <th>car</th>\n      <th>car_type</th>\n      <th>decline_app_cnt</th>\n      <th>good_work</th>\n      <th>score_bki</th>\n      <th>bki_request_cnt</th>\n      <th>region_rating</th>\n      <th>home_address</th>\n      <th>work_address</th>\n      <th>income</th>\n      <th>sna</th>\n      <th>first_time</th>\n      <th>foreign_passport</th>\n      <th>default</th>\n    </tr>\n  </thead>\n  <tbody>\n    <tr>\n      <th>0</th>\n      <td>25905</td>\n      <td>01FEB2014</td>\n      <td>SCH</td>\n      <td>M</td>\n      <td>62</td>\n      <td>Y</td>\n      <td>Y</td>\n      <td>0</td>\n      <td>0</td>\n      <td>-2.008753</td>\n      <td>1</td>\n      <td>50</td>\n      <td>1</td>\n      <td>2</td>\n      <td>18000</td>\n      <td>4</td>\n      <td>1</td>\n      <td>N</td>\n      <td>0</td>\n    </tr>\n    <tr>\n      <th>1</th>\n      <td>63161</td>\n      <td>12MAR2014</td>\n      <td>SCH</td>\n      <td>F</td>\n      <td>59</td>\n      <td>N</td>\n      <td>N</td>\n      <td>0</td>\n      <td>0</td>\n      <td>-1.532276</td>\n      <td>3</td>\n      <td>50</td>\n      <td>2</td>\n      <td>3</td>\n      <td>19000</td>\n      <td>4</td>\n      <td>1</td>\n      <td>N</td>\n      <td>0</td>\n    </tr>\n    <tr>\n      <th>2</th>\n      <td>25887</td>\n      <td>01FEB2014</td>\n      <td>SCH</td>\n      <td>M</td>\n      <td>25</td>\n      <td>Y</td>\n      <td>N</td>\n      <td>2</td>\n      <td>0</td>\n      <td>-1.408142</td>\n      <td>1</td>\n      <td>80</td>\n      <td>1</td>\n      <td>2</td>\n      <td>30000</td>\n      <td>1</td>\n      <td>4</td>\n      <td>Y</td>\n      <td>0</td>\n    </tr>\n    <tr>\n      <th>3</th>\n      <td>16222</td>\n      <td>23JAN2014</td>\n      <td>SCH</td>\n      <td>F</td>\n      <td>53</td>\n      <td>N</td>\n      <td>N</td>\n      <td>0</td>\n      <td>0</td>\n      <td>-2.057471</td>\n      <td>2</td>\n      <td>50</td>\n      <td>2</td>\n      <td>3</td>\n      <td>10000</td>\n      <td>1</td>\n      <td>3</td>\n      <td>N</td>\n      <td>0</td>\n    </tr>\n    <tr>\n      <th>4</th>\n      <td>101655</td>\n      <td>18APR2014</td>\n      <td>GRD</td>\n      <td>M</td>\n      <td>48</td>\n      <td>N</td>\n      <td>N</td>\n      <td>0</td>\n      <td>1</td>\n      <td>-1.244723</td>\n      <td>1</td>\n      <td>60</td>\n      <td>2</td>\n      <td>3</td>\n      <td>30000</td>\n      <td>1</td>\n      <td>4</td>\n      <td>Y</td>\n      <td>0</td>\n    </tr>\n    <tr>\n      <th>...</th>\n      <td>...</td>\n      <td>...</td>\n      <td>...</td>\n      <td>...</td>\n      <td>...</td>\n      <td>...</td>\n      <td>...</td>\n      <td>...</td>\n      <td>...</td>\n      <td>...</td>\n      <td>...</td>\n      <td>...</td>\n      <td>...</td>\n      <td>...</td>\n      <td>...</td>\n      <td>...</td>\n      <td>...</td>\n      <td>...</td>\n      <td>...</td>\n    </tr>\n    <tr>\n      <th>73794</th>\n      <td>54887</td>\n      <td>04MAR2014</td>\n      <td>GRD</td>\n      <td>F</td>\n      <td>45</td>\n      <td>N</td>\n      <td>N</td>\n      <td>0</td>\n      <td>0</td>\n      <td>-1.792064</td>\n      <td>3</td>\n      <td>50</td>\n      <td>1</td>\n      <td>2</td>\n      <td>17000</td>\n      <td>4</td>\n      <td>4</td>\n      <td>N</td>\n      <td>0</td>\n    </tr>\n    <tr>\n      <th>73795</th>\n      <td>76821</td>\n      <td>24MAR2014</td>\n      <td>SCH</td>\n      <td>M</td>\n      <td>41</td>\n      <td>Y</td>\n      <td>Y</td>\n      <td>0</td>\n      <td>0</td>\n      <td>-2.058029</td>\n      <td>1</td>\n      <td>50</td>\n      <td>2</td>\n      <td>2</td>\n      <td>70000</td>\n      <td>1</td>\n      <td>4</td>\n      <td>N</td>\n      <td>0</td>\n    </tr>\n    <tr>\n      <th>73796</th>\n      <td>103695</td>\n      <td>22APR2014</td>\n      <td>SCH</td>\n      <td>M</td>\n      <td>31</td>\n      <td>N</td>\n      <td>N</td>\n      <td>0</td>\n      <td>0</td>\n      <td>-1.512635</td>\n      <td>4</td>\n      <td>80</td>\n      <td>2</td>\n      <td>3</td>\n      <td>45000</td>\n      <td>2</td>\n      <td>2</td>\n      <td>N</td>\n      <td>0</td>\n    </tr>\n    <tr>\n      <th>73797</th>\n      <td>861</td>\n      <td>04JAN2014</td>\n      <td>SCH</td>\n      <td>F</td>\n      <td>29</td>\n      <td>N</td>\n      <td>N</td>\n      <td>0</td>\n      <td>1</td>\n      <td>-1.479334</td>\n      <td>3</td>\n      <td>50</td>\n      <td>1</td>\n      <td>3</td>\n      <td>13000</td>\n      <td>2</td>\n      <td>3</td>\n      <td>N</td>\n      <td>1</td>\n    </tr>\n    <tr>\n      <th>73798</th>\n      <td>15796</td>\n      <td>23JAN2014</td>\n      <td>GRD</td>\n      <td>M</td>\n      <td>34</td>\n      <td>N</td>\n      <td>N</td>\n      <td>0</td>\n      <td>0</td>\n      <td>-1.764711</td>\n      <td>2</td>\n      <td>50</td>\n      <td>2</td>\n      <td>3</td>\n      <td>25000</td>\n      <td>1</td>\n      <td>3</td>\n      <td>N</td>\n      <td>0</td>\n    </tr>\n  </tbody>\n</table>\n<p>73799 rows × 19 columns</p>\n</div>"
     },
     "execution_count": 84,
     "metadata": {},
     "output_type": "execute_result"
    }
   ],
   "source": [
    "df"
   ],
   "metadata": {
    "collapsed": false,
    "pycharm": {
     "name": "#%%\n"
    }
   }
  },
  {
   "cell_type": "markdown",
   "source": [],
   "metadata": {
    "collapsed": false,
    "pycharm": {
     "name": "#%% md\n"
    }
   }
  },
  {
   "cell_type": "code",
   "execution_count": 85,
   "outputs": [],
   "source": [
    "ed_mode = df.education.mode()[0]\n",
    "df.education = df.education.fillna(ed_mode)"
   ],
   "metadata": {
    "collapsed": false,
    "pycharm": {
     "name": "#%%\n"
    }
   }
  },
  {
   "cell_type": "code",
   "execution_count": 86,
   "outputs": [
    {
     "data": {
      "text/plain": "           client_id           age  decline_app_cnt     good_work  \\\ncount   73799.000000  73799.000000     73799.000000  73799.000000   \nmean    55137.965094     39.280641         0.275749      0.164894   \nstd     31841.921168     11.520378         0.804272      0.371087   \nmin         1.000000     21.000000         0.000000      0.000000   \n25%     27440.500000     30.000000         0.000000      0.000000   \n50%     55274.000000     37.000000         0.000000      0.000000   \n75%     82758.500000     48.000000         0.000000      0.000000   \nmax    110147.000000     72.000000        33.000000      1.000000   \n\n          score_bki  bki_request_cnt  region_rating  home_address  \\\ncount  73799.000000     73799.000000   73799.000000  73799.000000   \nmean      -1.904724         2.000339      56.725701      1.575509   \nstd        0.498231         2.252073      13.055717      0.527631   \nmin       -3.624586         0.000000      20.000000      1.000000   \n25%       -2.259534         0.000000      50.000000      1.000000   \n50%       -1.920823         1.000000      50.000000      2.000000   \n75%       -1.569831         3.000000      60.000000      2.000000   \nmax        0.199773        53.000000      80.000000      3.000000   \n\n       work_address          income           sna    first_time       default  \ncount  73799.000000    73799.000000  73799.000000  73799.000000  73799.000000  \nmean       2.496280    41099.775417      1.733330      2.765458      0.126994  \nstd        0.689818    46166.322400      1.123622      1.009463      0.332968  \nmin        1.000000     1000.000000      1.000000      1.000000      0.000000  \n25%        2.000000    20000.000000      1.000000      2.000000      0.000000  \n50%        3.000000    30000.000000      1.000000      3.000000      0.000000  \n75%        3.000000    48000.000000      2.000000      4.000000      0.000000  \nmax        3.000000  1000000.000000      4.000000      4.000000      1.000000  ",
      "text/html": "<div>\n<style scoped>\n    .dataframe tbody tr th:only-of-type {\n        vertical-align: middle;\n    }\n\n    .dataframe tbody tr th {\n        vertical-align: top;\n    }\n\n    .dataframe thead th {\n        text-align: right;\n    }\n</style>\n<table border=\"1\" class=\"dataframe\">\n  <thead>\n    <tr style=\"text-align: right;\">\n      <th></th>\n      <th>client_id</th>\n      <th>age</th>\n      <th>decline_app_cnt</th>\n      <th>good_work</th>\n      <th>score_bki</th>\n      <th>bki_request_cnt</th>\n      <th>region_rating</th>\n      <th>home_address</th>\n      <th>work_address</th>\n      <th>income</th>\n      <th>sna</th>\n      <th>first_time</th>\n      <th>default</th>\n    </tr>\n  </thead>\n  <tbody>\n    <tr>\n      <th>count</th>\n      <td>73799.000000</td>\n      <td>73799.000000</td>\n      <td>73799.000000</td>\n      <td>73799.000000</td>\n      <td>73799.000000</td>\n      <td>73799.000000</td>\n      <td>73799.000000</td>\n      <td>73799.000000</td>\n      <td>73799.000000</td>\n      <td>73799.000000</td>\n      <td>73799.000000</td>\n      <td>73799.000000</td>\n      <td>73799.000000</td>\n    </tr>\n    <tr>\n      <th>mean</th>\n      <td>55137.965094</td>\n      <td>39.280641</td>\n      <td>0.275749</td>\n      <td>0.164894</td>\n      <td>-1.904724</td>\n      <td>2.000339</td>\n      <td>56.725701</td>\n      <td>1.575509</td>\n      <td>2.496280</td>\n      <td>41099.775417</td>\n      <td>1.733330</td>\n      <td>2.765458</td>\n      <td>0.126994</td>\n    </tr>\n    <tr>\n      <th>std</th>\n      <td>31841.921168</td>\n      <td>11.520378</td>\n      <td>0.804272</td>\n      <td>0.371087</td>\n      <td>0.498231</td>\n      <td>2.252073</td>\n      <td>13.055717</td>\n      <td>0.527631</td>\n      <td>0.689818</td>\n      <td>46166.322400</td>\n      <td>1.123622</td>\n      <td>1.009463</td>\n      <td>0.332968</td>\n    </tr>\n    <tr>\n      <th>min</th>\n      <td>1.000000</td>\n      <td>21.000000</td>\n      <td>0.000000</td>\n      <td>0.000000</td>\n      <td>-3.624586</td>\n      <td>0.000000</td>\n      <td>20.000000</td>\n      <td>1.000000</td>\n      <td>1.000000</td>\n      <td>1000.000000</td>\n      <td>1.000000</td>\n      <td>1.000000</td>\n      <td>0.000000</td>\n    </tr>\n    <tr>\n      <th>25%</th>\n      <td>27440.500000</td>\n      <td>30.000000</td>\n      <td>0.000000</td>\n      <td>0.000000</td>\n      <td>-2.259534</td>\n      <td>0.000000</td>\n      <td>50.000000</td>\n      <td>1.000000</td>\n      <td>2.000000</td>\n      <td>20000.000000</td>\n      <td>1.000000</td>\n      <td>2.000000</td>\n      <td>0.000000</td>\n    </tr>\n    <tr>\n      <th>50%</th>\n      <td>55274.000000</td>\n      <td>37.000000</td>\n      <td>0.000000</td>\n      <td>0.000000</td>\n      <td>-1.920823</td>\n      <td>1.000000</td>\n      <td>50.000000</td>\n      <td>2.000000</td>\n      <td>3.000000</td>\n      <td>30000.000000</td>\n      <td>1.000000</td>\n      <td>3.000000</td>\n      <td>0.000000</td>\n    </tr>\n    <tr>\n      <th>75%</th>\n      <td>82758.500000</td>\n      <td>48.000000</td>\n      <td>0.000000</td>\n      <td>0.000000</td>\n      <td>-1.569831</td>\n      <td>3.000000</td>\n      <td>60.000000</td>\n      <td>2.000000</td>\n      <td>3.000000</td>\n      <td>48000.000000</td>\n      <td>2.000000</td>\n      <td>4.000000</td>\n      <td>0.000000</td>\n    </tr>\n    <tr>\n      <th>max</th>\n      <td>110147.000000</td>\n      <td>72.000000</td>\n      <td>33.000000</td>\n      <td>1.000000</td>\n      <td>0.199773</td>\n      <td>53.000000</td>\n      <td>80.000000</td>\n      <td>3.000000</td>\n      <td>3.000000</td>\n      <td>1000000.000000</td>\n      <td>4.000000</td>\n      <td>4.000000</td>\n      <td>1.000000</td>\n    </tr>\n  </tbody>\n</table>\n</div>"
     },
     "execution_count": 86,
     "metadata": {},
     "output_type": "execute_result"
    }
   ],
   "source": [
    "df.describe()"
   ],
   "metadata": {
    "collapsed": false,
    "pycharm": {
     "name": "#%%\n"
    }
   }
  },
  {
   "cell_type": "code",
   "execution_count": 87,
   "outputs": [],
   "source": [
    "df[['home_address', 'work_address']] = df[['home_address', 'work_address']].astype(object)"
   ],
   "metadata": {
    "collapsed": false,
    "pycharm": {
     "name": "#%%\n"
    }
   }
  },
  {
   "cell_type": "code",
   "execution_count": 88,
   "outputs": [],
   "source": [
    "for i in ['age', 'decline_app_cnt', 'bki_request_cnt', 'income']:\n",
    "    df[i] = np.log(df[i]+1)"
   ],
   "metadata": {
    "collapsed": false,
    "pycharm": {
     "name": "#%%\n"
    }
   }
  },
  {
   "cell_type": "code",
   "execution_count": 89,
   "outputs": [
    {
     "data": {
      "text/plain": "       client_id   app_date education sex       age car car_type  \\\n0          25905  01FEB2014       SCH   M  4.143135   Y        Y   \n1          63161  12MAR2014       SCH   F  4.094345   N        N   \n2          25887  01FEB2014       SCH   M  3.258097   Y        N   \n3          16222  23JAN2014       SCH   F  3.988984   N        N   \n4         101655  18APR2014       GRD   M  3.891820   N        N   \n...          ...        ...       ...  ..       ...  ..      ...   \n73794      54887  04MAR2014       GRD   F  3.828641   N        N   \n73795      76821  24MAR2014       SCH   M  3.737670   Y        Y   \n73796     103695  22APR2014       SCH   M  3.465736   N        N   \n73797        861  04JAN2014       SCH   F  3.401197   N        N   \n73798      15796  23JAN2014       GRD   M  3.555348   N        N   \n\n       decline_app_cnt  good_work  score_bki  bki_request_cnt  region_rating  \\\n0             0.000000          0  -2.008753         0.693147             50   \n1             0.000000          0  -1.532276         1.386294             50   \n2             1.098612          0  -1.408142         0.693147             80   \n3             0.000000          0  -2.057471         1.098612             50   \n4             0.000000          1  -1.244723         0.693147             60   \n...                ...        ...        ...              ...            ...   \n73794         0.000000          0  -1.792064         1.386294             50   \n73795         0.000000          0  -2.058029         0.693147             50   \n73796         0.000000          0  -1.512635         1.609438             80   \n73797         0.000000          1  -1.479334         1.386294             50   \n73798         0.000000          0  -1.764711         1.098612             50   \n\n      home_address work_address     income  sna  first_time foreign_passport  \\\n0                1            2   9.798183    4           1                N   \n1                2            3   9.852247    4           1                N   \n2                1            2  10.308986    1           4                Y   \n3                2            3   9.210440    1           3                N   \n4                2            3  10.308986    1           4                Y   \n...            ...          ...        ...  ...         ...              ...   \n73794            1            2   9.741027    4           4                N   \n73795            2            2  11.156265    1           4                N   \n73796            2            3  10.714440    2           2                N   \n73797            1            3   9.472782    2           3                N   \n73798            2            3  10.126671    1           3                N   \n\n       default  \n0            0  \n1            0  \n2            0  \n3            0  \n4            0  \n...        ...  \n73794        0  \n73795        0  \n73796        0  \n73797        1  \n73798        0  \n\n[73799 rows x 19 columns]",
      "text/html": "<div>\n<style scoped>\n    .dataframe tbody tr th:only-of-type {\n        vertical-align: middle;\n    }\n\n    .dataframe tbody tr th {\n        vertical-align: top;\n    }\n\n    .dataframe thead th {\n        text-align: right;\n    }\n</style>\n<table border=\"1\" class=\"dataframe\">\n  <thead>\n    <tr style=\"text-align: right;\">\n      <th></th>\n      <th>client_id</th>\n      <th>app_date</th>\n      <th>education</th>\n      <th>sex</th>\n      <th>age</th>\n      <th>car</th>\n      <th>car_type</th>\n      <th>decline_app_cnt</th>\n      <th>good_work</th>\n      <th>score_bki</th>\n      <th>bki_request_cnt</th>\n      <th>region_rating</th>\n      <th>home_address</th>\n      <th>work_address</th>\n      <th>income</th>\n      <th>sna</th>\n      <th>first_time</th>\n      <th>foreign_passport</th>\n      <th>default</th>\n    </tr>\n  </thead>\n  <tbody>\n    <tr>\n      <th>0</th>\n      <td>25905</td>\n      <td>01FEB2014</td>\n      <td>SCH</td>\n      <td>M</td>\n      <td>4.143135</td>\n      <td>Y</td>\n      <td>Y</td>\n      <td>0.000000</td>\n      <td>0</td>\n      <td>-2.008753</td>\n      <td>0.693147</td>\n      <td>50</td>\n      <td>1</td>\n      <td>2</td>\n      <td>9.798183</td>\n      <td>4</td>\n      <td>1</td>\n      <td>N</td>\n      <td>0</td>\n    </tr>\n    <tr>\n      <th>1</th>\n      <td>63161</td>\n      <td>12MAR2014</td>\n      <td>SCH</td>\n      <td>F</td>\n      <td>4.094345</td>\n      <td>N</td>\n      <td>N</td>\n      <td>0.000000</td>\n      <td>0</td>\n      <td>-1.532276</td>\n      <td>1.386294</td>\n      <td>50</td>\n      <td>2</td>\n      <td>3</td>\n      <td>9.852247</td>\n      <td>4</td>\n      <td>1</td>\n      <td>N</td>\n      <td>0</td>\n    </tr>\n    <tr>\n      <th>2</th>\n      <td>25887</td>\n      <td>01FEB2014</td>\n      <td>SCH</td>\n      <td>M</td>\n      <td>3.258097</td>\n      <td>Y</td>\n      <td>N</td>\n      <td>1.098612</td>\n      <td>0</td>\n      <td>-1.408142</td>\n      <td>0.693147</td>\n      <td>80</td>\n      <td>1</td>\n      <td>2</td>\n      <td>10.308986</td>\n      <td>1</td>\n      <td>4</td>\n      <td>Y</td>\n      <td>0</td>\n    </tr>\n    <tr>\n      <th>3</th>\n      <td>16222</td>\n      <td>23JAN2014</td>\n      <td>SCH</td>\n      <td>F</td>\n      <td>3.988984</td>\n      <td>N</td>\n      <td>N</td>\n      <td>0.000000</td>\n      <td>0</td>\n      <td>-2.057471</td>\n      <td>1.098612</td>\n      <td>50</td>\n      <td>2</td>\n      <td>3</td>\n      <td>9.210440</td>\n      <td>1</td>\n      <td>3</td>\n      <td>N</td>\n      <td>0</td>\n    </tr>\n    <tr>\n      <th>4</th>\n      <td>101655</td>\n      <td>18APR2014</td>\n      <td>GRD</td>\n      <td>M</td>\n      <td>3.891820</td>\n      <td>N</td>\n      <td>N</td>\n      <td>0.000000</td>\n      <td>1</td>\n      <td>-1.244723</td>\n      <td>0.693147</td>\n      <td>60</td>\n      <td>2</td>\n      <td>3</td>\n      <td>10.308986</td>\n      <td>1</td>\n      <td>4</td>\n      <td>Y</td>\n      <td>0</td>\n    </tr>\n    <tr>\n      <th>...</th>\n      <td>...</td>\n      <td>...</td>\n      <td>...</td>\n      <td>...</td>\n      <td>...</td>\n      <td>...</td>\n      <td>...</td>\n      <td>...</td>\n      <td>...</td>\n      <td>...</td>\n      <td>...</td>\n      <td>...</td>\n      <td>...</td>\n      <td>...</td>\n      <td>...</td>\n      <td>...</td>\n      <td>...</td>\n      <td>...</td>\n      <td>...</td>\n    </tr>\n    <tr>\n      <th>73794</th>\n      <td>54887</td>\n      <td>04MAR2014</td>\n      <td>GRD</td>\n      <td>F</td>\n      <td>3.828641</td>\n      <td>N</td>\n      <td>N</td>\n      <td>0.000000</td>\n      <td>0</td>\n      <td>-1.792064</td>\n      <td>1.386294</td>\n      <td>50</td>\n      <td>1</td>\n      <td>2</td>\n      <td>9.741027</td>\n      <td>4</td>\n      <td>4</td>\n      <td>N</td>\n      <td>0</td>\n    </tr>\n    <tr>\n      <th>73795</th>\n      <td>76821</td>\n      <td>24MAR2014</td>\n      <td>SCH</td>\n      <td>M</td>\n      <td>3.737670</td>\n      <td>Y</td>\n      <td>Y</td>\n      <td>0.000000</td>\n      <td>0</td>\n      <td>-2.058029</td>\n      <td>0.693147</td>\n      <td>50</td>\n      <td>2</td>\n      <td>2</td>\n      <td>11.156265</td>\n      <td>1</td>\n      <td>4</td>\n      <td>N</td>\n      <td>0</td>\n    </tr>\n    <tr>\n      <th>73796</th>\n      <td>103695</td>\n      <td>22APR2014</td>\n      <td>SCH</td>\n      <td>M</td>\n      <td>3.465736</td>\n      <td>N</td>\n      <td>N</td>\n      <td>0.000000</td>\n      <td>0</td>\n      <td>-1.512635</td>\n      <td>1.609438</td>\n      <td>80</td>\n      <td>2</td>\n      <td>3</td>\n      <td>10.714440</td>\n      <td>2</td>\n      <td>2</td>\n      <td>N</td>\n      <td>0</td>\n    </tr>\n    <tr>\n      <th>73797</th>\n      <td>861</td>\n      <td>04JAN2014</td>\n      <td>SCH</td>\n      <td>F</td>\n      <td>3.401197</td>\n      <td>N</td>\n      <td>N</td>\n      <td>0.000000</td>\n      <td>1</td>\n      <td>-1.479334</td>\n      <td>1.386294</td>\n      <td>50</td>\n      <td>1</td>\n      <td>3</td>\n      <td>9.472782</td>\n      <td>2</td>\n      <td>3</td>\n      <td>N</td>\n      <td>1</td>\n    </tr>\n    <tr>\n      <th>73798</th>\n      <td>15796</td>\n      <td>23JAN2014</td>\n      <td>GRD</td>\n      <td>M</td>\n      <td>3.555348</td>\n      <td>N</td>\n      <td>N</td>\n      <td>0.000000</td>\n      <td>0</td>\n      <td>-1.764711</td>\n      <td>1.098612</td>\n      <td>50</td>\n      <td>2</td>\n      <td>3</td>\n      <td>10.126671</td>\n      <td>1</td>\n      <td>3</td>\n      <td>N</td>\n      <td>0</td>\n    </tr>\n  </tbody>\n</table>\n<p>73799 rows × 19 columns</p>\n</div>"
     },
     "execution_count": 89,
     "metadata": {},
     "output_type": "execute_result"
    }
   ],
   "source": [
    "df"
   ],
   "metadata": {
    "collapsed": false,
    "pycharm": {
     "name": "#%%\n"
    }
   }
  },
  {
   "cell_type": "code",
   "execution_count": 90,
   "outputs": [],
   "source": [
    "# Новый признак - месяц\n",
    "df['app_date'] = pd.to_datetime(df['app_date'], format='%d%b%Y')\n",
    "df['month'] = df['app_date'].dt.month.astype(object)\n",
    "\n",
    "df.drop(['app_date'],  axis=1, inplace=True)"
   ],
   "metadata": {
    "collapsed": false,
    "pycharm": {
     "name": "#%%\n"
    }
   }
  },
  {
   "cell_type": "code",
   "execution_count": 91,
   "outputs": [
    {
     "data": {
      "text/plain": "   client_id education sex       age car car_type  decline_app_cnt  good_work  \\\n0      25905       SCH   M  4.143135   Y        Y         0.000000          0   \n1      63161       SCH   F  4.094345   N        N         0.000000          0   \n2      25887       SCH   M  3.258097   Y        N         1.098612          0   \n3      16222       SCH   F  3.988984   N        N         0.000000          0   \n4     101655       GRD   M  3.891820   N        N         0.000000          1   \n\n   score_bki  bki_request_cnt  region_rating home_address work_address  \\\n0  -2.008753         0.693147             50            1            2   \n1  -1.532276         1.386294             50            2            3   \n2  -1.408142         0.693147             80            1            2   \n3  -2.057471         1.098612             50            2            3   \n4  -1.244723         0.693147             60            2            3   \n\n      income  sna  first_time foreign_passport  default month  \n0   9.798183    4           1                N        0     2  \n1   9.852247    4           1                N        0     3  \n2  10.308986    1           4                Y        0     2  \n3   9.210440    1           3                N        0     1  \n4  10.308986    1           4                Y        0     4  ",
      "text/html": "<div>\n<style scoped>\n    .dataframe tbody tr th:only-of-type {\n        vertical-align: middle;\n    }\n\n    .dataframe tbody tr th {\n        vertical-align: top;\n    }\n\n    .dataframe thead th {\n        text-align: right;\n    }\n</style>\n<table border=\"1\" class=\"dataframe\">\n  <thead>\n    <tr style=\"text-align: right;\">\n      <th></th>\n      <th>client_id</th>\n      <th>education</th>\n      <th>sex</th>\n      <th>age</th>\n      <th>car</th>\n      <th>car_type</th>\n      <th>decline_app_cnt</th>\n      <th>good_work</th>\n      <th>score_bki</th>\n      <th>bki_request_cnt</th>\n      <th>region_rating</th>\n      <th>home_address</th>\n      <th>work_address</th>\n      <th>income</th>\n      <th>sna</th>\n      <th>first_time</th>\n      <th>foreign_passport</th>\n      <th>default</th>\n      <th>month</th>\n    </tr>\n  </thead>\n  <tbody>\n    <tr>\n      <th>0</th>\n      <td>25905</td>\n      <td>SCH</td>\n      <td>M</td>\n      <td>4.143135</td>\n      <td>Y</td>\n      <td>Y</td>\n      <td>0.000000</td>\n      <td>0</td>\n      <td>-2.008753</td>\n      <td>0.693147</td>\n      <td>50</td>\n      <td>1</td>\n      <td>2</td>\n      <td>9.798183</td>\n      <td>4</td>\n      <td>1</td>\n      <td>N</td>\n      <td>0</td>\n      <td>2</td>\n    </tr>\n    <tr>\n      <th>1</th>\n      <td>63161</td>\n      <td>SCH</td>\n      <td>F</td>\n      <td>4.094345</td>\n      <td>N</td>\n      <td>N</td>\n      <td>0.000000</td>\n      <td>0</td>\n      <td>-1.532276</td>\n      <td>1.386294</td>\n      <td>50</td>\n      <td>2</td>\n      <td>3</td>\n      <td>9.852247</td>\n      <td>4</td>\n      <td>1</td>\n      <td>N</td>\n      <td>0</td>\n      <td>3</td>\n    </tr>\n    <tr>\n      <th>2</th>\n      <td>25887</td>\n      <td>SCH</td>\n      <td>M</td>\n      <td>3.258097</td>\n      <td>Y</td>\n      <td>N</td>\n      <td>1.098612</td>\n      <td>0</td>\n      <td>-1.408142</td>\n      <td>0.693147</td>\n      <td>80</td>\n      <td>1</td>\n      <td>2</td>\n      <td>10.308986</td>\n      <td>1</td>\n      <td>4</td>\n      <td>Y</td>\n      <td>0</td>\n      <td>2</td>\n    </tr>\n    <tr>\n      <th>3</th>\n      <td>16222</td>\n      <td>SCH</td>\n      <td>F</td>\n      <td>3.988984</td>\n      <td>N</td>\n      <td>N</td>\n      <td>0.000000</td>\n      <td>0</td>\n      <td>-2.057471</td>\n      <td>1.098612</td>\n      <td>50</td>\n      <td>2</td>\n      <td>3</td>\n      <td>9.210440</td>\n      <td>1</td>\n      <td>3</td>\n      <td>N</td>\n      <td>0</td>\n      <td>1</td>\n    </tr>\n    <tr>\n      <th>4</th>\n      <td>101655</td>\n      <td>GRD</td>\n      <td>M</td>\n      <td>3.891820</td>\n      <td>N</td>\n      <td>N</td>\n      <td>0.000000</td>\n      <td>1</td>\n      <td>-1.244723</td>\n      <td>0.693147</td>\n      <td>60</td>\n      <td>2</td>\n      <td>3</td>\n      <td>10.308986</td>\n      <td>1</td>\n      <td>4</td>\n      <td>Y</td>\n      <td>0</td>\n      <td>4</td>\n    </tr>\n  </tbody>\n</table>\n</div>"
     },
     "execution_count": 91,
     "metadata": {},
     "output_type": "execute_result"
    }
   ],
   "source": [
    "df[:5]"
   ],
   "metadata": {
    "collapsed": false,
    "pycharm": {
     "name": "#%%\n"
    }
   }
  },
  {
   "cell_type": "code",
   "execution_count": 92,
   "outputs": [],
   "source": [
    "cat_cols = ['education', 'sex', 'car', 'car_type', 'good_work', 'home_address', 'work_address',\n",
    "       'foreign_passport', 'sna', 'month']"
   ],
   "metadata": {
    "collapsed": false,
    "pycharm": {
     "name": "#%%\n"
    }
   }
  },
  {
   "cell_type": "code",
   "execution_count": 93,
   "outputs": [],
   "source": [
    "df_label = pd.get_dummies(df, columns=cat_cols,\n",
    "                          drop_first=True).drop('client_id', axis=1)"
   ],
   "metadata": {
    "collapsed": false,
    "pycharm": {
     "name": "#%%\n"
    }
   }
  },
  {
   "cell_type": "code",
   "execution_count": 94,
   "outputs": [
    {
     "data": {
      "text/plain": "        age  decline_app_cnt  score_bki  bki_request_cnt  region_rating  \\\n0  4.143135         0.000000  -2.008753         0.693147             50   \n1  4.094345         0.000000  -1.532276         1.386294             50   \n2  3.258097         1.098612  -1.408142         0.693147             80   \n3  3.988984         0.000000  -2.057471         1.098612             50   \n4  3.891820         0.000000  -1.244723         0.693147             60   \n\n      income  first_time  default  education_GRD  education_PGR  ...  \\\n0   9.798183           1        0              0              0  ...   \n1   9.852247           1        0              0              0  ...   \n2  10.308986           4        0              0              0  ...   \n3   9.210440           3        0              0              0  ...   \n4  10.308986           4        0              1              0  ...   \n\n   home_address_3  work_address_2  work_address_3  foreign_passport_Y  sna_2  \\\n0               0               1               0                   0      0   \n1               0               0               1                   0      0   \n2               0               1               0                   1      0   \n3               0               0               1                   0      0   \n4               0               0               1                   1      0   \n\n   sna_3  sna_4  month_2  month_3  month_4  \n0      0      1        1        0        0  \n1      0      1        0        1        0  \n2      0      0        1        0        0  \n3      0      0        0        0        0  \n4      0      0        0        0        1  \n\n[5 rows x 27 columns]",
      "text/html": "<div>\n<style scoped>\n    .dataframe tbody tr th:only-of-type {\n        vertical-align: middle;\n    }\n\n    .dataframe tbody tr th {\n        vertical-align: top;\n    }\n\n    .dataframe thead th {\n        text-align: right;\n    }\n</style>\n<table border=\"1\" class=\"dataframe\">\n  <thead>\n    <tr style=\"text-align: right;\">\n      <th></th>\n      <th>age</th>\n      <th>decline_app_cnt</th>\n      <th>score_bki</th>\n      <th>bki_request_cnt</th>\n      <th>region_rating</th>\n      <th>income</th>\n      <th>first_time</th>\n      <th>default</th>\n      <th>education_GRD</th>\n      <th>education_PGR</th>\n      <th>...</th>\n      <th>home_address_3</th>\n      <th>work_address_2</th>\n      <th>work_address_3</th>\n      <th>foreign_passport_Y</th>\n      <th>sna_2</th>\n      <th>sna_3</th>\n      <th>sna_4</th>\n      <th>month_2</th>\n      <th>month_3</th>\n      <th>month_4</th>\n    </tr>\n  </thead>\n  <tbody>\n    <tr>\n      <th>0</th>\n      <td>4.143135</td>\n      <td>0.000000</td>\n      <td>-2.008753</td>\n      <td>0.693147</td>\n      <td>50</td>\n      <td>9.798183</td>\n      <td>1</td>\n      <td>0</td>\n      <td>0</td>\n      <td>0</td>\n      <td>...</td>\n      <td>0</td>\n      <td>1</td>\n      <td>0</td>\n      <td>0</td>\n      <td>0</td>\n      <td>0</td>\n      <td>1</td>\n      <td>1</td>\n      <td>0</td>\n      <td>0</td>\n    </tr>\n    <tr>\n      <th>1</th>\n      <td>4.094345</td>\n      <td>0.000000</td>\n      <td>-1.532276</td>\n      <td>1.386294</td>\n      <td>50</td>\n      <td>9.852247</td>\n      <td>1</td>\n      <td>0</td>\n      <td>0</td>\n      <td>0</td>\n      <td>...</td>\n      <td>0</td>\n      <td>0</td>\n      <td>1</td>\n      <td>0</td>\n      <td>0</td>\n      <td>0</td>\n      <td>1</td>\n      <td>0</td>\n      <td>1</td>\n      <td>0</td>\n    </tr>\n    <tr>\n      <th>2</th>\n      <td>3.258097</td>\n      <td>1.098612</td>\n      <td>-1.408142</td>\n      <td>0.693147</td>\n      <td>80</td>\n      <td>10.308986</td>\n      <td>4</td>\n      <td>0</td>\n      <td>0</td>\n      <td>0</td>\n      <td>...</td>\n      <td>0</td>\n      <td>1</td>\n      <td>0</td>\n      <td>1</td>\n      <td>0</td>\n      <td>0</td>\n      <td>0</td>\n      <td>1</td>\n      <td>0</td>\n      <td>0</td>\n    </tr>\n    <tr>\n      <th>3</th>\n      <td>3.988984</td>\n      <td>0.000000</td>\n      <td>-2.057471</td>\n      <td>1.098612</td>\n      <td>50</td>\n      <td>9.210440</td>\n      <td>3</td>\n      <td>0</td>\n      <td>0</td>\n      <td>0</td>\n      <td>...</td>\n      <td>0</td>\n      <td>0</td>\n      <td>1</td>\n      <td>0</td>\n      <td>0</td>\n      <td>0</td>\n      <td>0</td>\n      <td>0</td>\n      <td>0</td>\n      <td>0</td>\n    </tr>\n    <tr>\n      <th>4</th>\n      <td>3.891820</td>\n      <td>0.000000</td>\n      <td>-1.244723</td>\n      <td>0.693147</td>\n      <td>60</td>\n      <td>10.308986</td>\n      <td>4</td>\n      <td>0</td>\n      <td>1</td>\n      <td>0</td>\n      <td>...</td>\n      <td>0</td>\n      <td>0</td>\n      <td>1</td>\n      <td>1</td>\n      <td>0</td>\n      <td>0</td>\n      <td>0</td>\n      <td>0</td>\n      <td>0</td>\n      <td>1</td>\n    </tr>\n  </tbody>\n</table>\n<p>5 rows × 27 columns</p>\n</div>"
     },
     "execution_count": 94,
     "metadata": {},
     "output_type": "execute_result"
    }
   ],
   "source": [
    "df_label[:5]"
   ],
   "metadata": {
    "collapsed": false,
    "pycharm": {
     "name": "#%%\n"
    }
   }
  },
  {
   "cell_type": "code",
   "execution_count": 95,
   "outputs": [],
   "source": [
    "RAND = 10\n",
    "\n",
    "X = df_label.drop('default', axis=1)\n",
    "y = df_label['default']\n",
    "\n",
    "X_train, X_test, y_train, y_test = train_test_split(\n",
    "    X, y, test_size=0.25, stratify=y, shuffle=True, random_state=RAND)"
   ],
   "metadata": {
    "collapsed": false,
    "pycharm": {
     "name": "#%%\n"
    }
   }
  },
  {
   "cell_type": "code",
   "execution_count": 96,
   "outputs": [],
   "source": [
    "lr = LogisticRegression(class_weight = 'balanced')\n",
    "lr.fit(X_train, y_train)\n",
    "\n",
    "y_pred = lr.predict(X_test)\n",
    "y_score = lr.predict_proba(X_test)[:,1]\n",
    "\n",
    "print('Success!')"
   ],
   "metadata": {
    "collapsed": false,
    "pycharm": {
     "name": "#%%\n"
    }
   }
  },
  {
   "cell_type": "code",
   "execution_count": 97,
   "outputs": [
    {
     "name": "stdout",
     "output_type": "stream",
     "text": [
      "roc-auc: 0.7266334365880797\n"
     ]
    }
   ],
   "source": [
    "print('roc-auc:', roc_auc_score(y_test, y_score))"
   ],
   "metadata": {
    "collapsed": false,
    "pycharm": {
     "name": "#%%\n"
    }
   }
  }
 ],
 "metadata": {
  "kernelspec": {
   "display_name": "Python 3",
   "language": "python",
   "name": "python3"
  },
  "language_info": {
   "codemirror_mode": {
    "name": "ipython",
    "version": 2
   },
   "file_extension": ".py",
   "mimetype": "text/x-python",
   "name": "python",
   "nbconvert_exporter": "python",
   "pygments_lexer": "ipython2",
   "version": "2.7.6"
  }
 },
 "nbformat": 4,
 "nbformat_minor": 0
}